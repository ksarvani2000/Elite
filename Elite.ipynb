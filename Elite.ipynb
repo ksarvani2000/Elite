{
  "nbformat": 4,
  "nbformat_minor": 0,
  "metadata": {
    "colab": {
      "name": "Elite.ipynb",
      "provenance": [],
      "include_colab_link": true
    },
    "kernelspec": {
      "name": "python3",
      "display_name": "Python 3"
    }
  },
  "cells": [
    {
      "cell_type": "markdown",
      "metadata": {
        "id": "view-in-github",
        "colab_type": "text"
      },
      "source": [
        "<a href=\"https://colab.research.google.com/github/ksarvani2000/Elite/blob/master/Elite.ipynb\" target=\"_parent\"><img src=\"https://colab.research.google.com/assets/colab-badge.svg\" alt=\"Open In Colab\"/></a>"
      ]
    },
    {
      "cell_type": "code",
      "metadata": {
        "id": "DxaiCqV4twai",
        "colab_type": "code",
        "colab": {}
      },
      "source": [
        "def Capatalize(s):\n",
        "  return (s.isupper() or s.islower() or s.capatalize(s) or s.istitle())"
      ],
      "execution_count": 0,
      "outputs": []
    },
    {
      "cell_type": "code",
      "metadata": {
        "id": "w6epMalAuLm-",
        "colab_type": "code",
        "colab": {}
      },
      "source": [
        "print(Capatalize(\"USA\"))"
      ],
      "execution_count": 0,
      "outputs": []
    },
    {
      "cell_type": "code",
      "metadata": {
        "id": "E3WlrCeb-JAI",
        "colab_type": "code",
        "colab": {}
      },
      "source": [
        "import itertools as it\n",
        "def convert_paren(s):\n",
        "  if s == '(':\n",
        "    return 1\n",
        "  elif s == ')':\n",
        "    return -1\n",
        "  else:\n",
        "    return 0\n",
        "  \n",
        "def convert(s):\n",
        "  return [convert_paren(ch) for ch in s]\n",
        "def check_paren(s):\n",
        "  sum = list(it.accumulate(convert(s)))\n",
        "  return -1 not in sum and sums[-1] == 0\n"
      ],
      "execution_count": 0,
      "outputs": []
    },
    {
      "cell_type": "code",
      "metadata": {
        "id": "aWAcTLky-7IX",
        "colab_type": "code",
        "outputId": "a6a7beb9-8019-47de-a1a2-5f81ce824ed4",
        "colab": {
          "base_uri": "https://localhost:8080/",
          "height": 34
        }
      },
      "source": [
        "def smallest(n):\n",
        "  return int(''.join(sorted(str(n))))\n",
        "\n",
        "print(smallest(2958734))\n"
      ],
      "execution_count": 0,
      "outputs": [
        {
          "output_type": "stream",
          "text": [
            "2345789\n"
          ],
          "name": "stdout"
        }
      ]
    },
    {
      "cell_type": "code",
      "metadata": {
        "id": "lrXz7B3-L53t",
        "colab_type": "code",
        "colab": {}
      },
      "source": [
        "#regular expressions\n",
        "vim re.txt\n",
        "#grep - global regular expression print\n",
        "grep re.txt\n",
        "man grep"
      ],
      "execution_count": 0,
      "outputs": []
    },
    {
      "cell_type": "code",
      "metadata": {
        "id": "XgIIvrwyVUHI",
        "colab_type": "code",
        "colab": {}
      },
      "source": [
        "import math"
      ],
      "execution_count": 0,
      "outputs": []
    },
    {
      "cell_type": "code",
      "metadata": {
        "id": "wM5aKkoVVXBy",
        "colab_type": "code",
        "colab": {}
      },
      "source": [
        "def totient(n : int) -> int:\n",
        "  return 1 + len([x for x in range(2,n) if math.gcd(x,n) == 1])\n"
      ],
      "execution_count": 0,
      "outputs": []
    },
    {
      "cell_type": "code",
      "metadata": {
        "id": "thQyQLy2V_u1",
        "colab_type": "code",
        "colab": {}
      },
      "source": [
        "def is_permutation(a : int, b : int) -> bool:\n",
        "  return sorted(str(a) == sorted(str(b)))"
      ],
      "execution_count": 0,
      "outputs": []
    },
    {
      "cell_type": "code",
      "metadata": {
        "id": "MwE6Shflu7k4",
        "colab_type": "code",
        "colab": {}
      },
      "source": [
        "#ELITE program2 :-\n",
        "from itertools import permutations as npr\n",
        "\n",
        "def str_permutations(s):\n",
        "\treturn [''.join(x) for x in npr(s)]\n",
        "\n",
        "def circ_str_permutations(s):\n",
        "\treturn [x for x in str_permutations(s) if s in x + x]\n",
        "\n",
        "def circ_numbers(n):\n",
        "\treturn [int(x) for x in circ_str_permutations(str(n))]\n",
        "\n",
        "\n",
        "def is_primes(n):\n",
        "\tif n in [2,3,5,7]:\n",
        "\treturn True\n",
        "\tif n % 2 == 0:\n",
        "\t\treturn False\n",
        "\tr = 3\n",
        "\twhile r * r <= n:\n",
        "\t\tif n % r == 0:\n",
        "\t\t\treturn False\n",
        "\t\tr += 2\n",
        "\treturn True\n",
        "\n",
        "def is_circ_prime(n):\n",
        "\tif is_prime(n):\n",
        "\treturn all([is_prime(x) for x in circ_numbers(n)])\n",
        "\treturn False\n",
        "\n",
        "def euler35():\n",
        "\treturn LIMIT = 100000\n",
        "\treturn len([n for n in range(2,LIMIT) if is_circ_]prime(n))\n"
      ],
      "execution_count": 0,
      "outputs": []
    },
    {
      "cell_type": "code",
      "metadata": {
        "id": "WVDIiTv53NWi",
        "colab_type": "code",
        "colab": {}
      },
      "source": [
        "#ELITE program1 :-\n",
        "# \"abc\" , [3,5,9]\n",
        "import itertools.accumulate as cumsum\n",
        "\n",
        "lowers = \"abcdefghijklmnopqrstuvwxyzabcdefghijklmnopqrstuvwxyz\"\n",
        "\n",
        "def shift_by(ch,by):\n",
        "\treturn lowers[lowers.index(ch) + by]\n",
        "\n",
        "def calc_cum_shifts(shifts):\n",
        "\treturn [sum(shifts[i:]) % 26 for i in range(len(shifts))]\n",
        "\n",
        "def shifts(s,shifts):\n",
        "\treturn ''.join(shifts_by(a,b) for a,b in zip(s,calc_sum_shifts(shifts)))"
      ],
      "execution_count": 0,
      "outputs": []
    },
    {
      "cell_type": "code",
      "metadata": {
        "id": "vDAgtcUTJvXS",
        "colab_type": "code",
        "colab": {}
      },
      "source": [
        "def two_consecutive_prime(n):\n",
        "  for i in range(1,n):\n",
        "    if(n % i == 0):\n",
        "      return i;\n",
        "    \n",
        "for i in range(1,n):\n",
        "  print(two_consecutive_prime(14))    \n",
        "\n",
        "def prime_consecutive(n):\n",
        "  for i in range(1,n):\n",
        "    if(n % i == 0):\n",
        "      count += 1;\n",
        "print(count)      \n",
        " "
      ],
      "execution_count": 0,
      "outputs": []
    },
    {
      "cell_type": "code",
      "metadata": {
        "id": "jCyWpd25OoZq",
        "colab_type": "code",
        "colab": {}
      },
      "source": [
        "primes = [2]\n",
        "def prime_factors(n,primes):\n",
        "  for i in range(0,len(n)):\n",
        "    if n % primes[i] == 0:\n",
        "      return False\n",
        "    \n",
        "for i in range(2,10000):\n",
        "  if(prime_factors(i,primes) == None):\n",
        "    primes.append(i)\n",
        "    \n",
        "def factors(n,primes):\n",
        "  fac = []\n",
        "  for i in range(0,len(n)):\n",
        "    if n % primes[i] == 0:\n",
        "      n /= primes[i]\n",
        "      fac.append(primes[i])\n",
        "      return fac\n",
        "    \n",
        "for j in range(0,100000):\n",
        "  list = factors(j,primes)\n",
        "  if len(list) == 4:\n",
        "    list = factors(j+1,primes)\n",
        "    if len(list) == 4:\n",
        "      list = factors(j+2,primes)\n",
        "      if len(list) == 4:\n",
        "        list = factors(j+3,primes)\n",
        "        if len(list) == 4:\n",
        "          print(j)\n",
        "          break\n",
        "\n",
        "print(prime_factors(14,2))\n",
        "print(factors(14,2))"
      ],
      "execution_count": 0,
      "outputs": []
    },
    {
      "cell_type": "code",
      "metadata": {
        "id": "6RgBucgIYbF2",
        "colab_type": "code",
        "colab": {}
      },
      "source": [
        "           \n",
        "def prime_factors(num, firstnum, lastnum):\n",
        "\tnum += lastnum\n",
        "\tf = [0] * num\n",
        "\tfor n in range(2, num):\n",
        "\t\tif f[n] == firstnum:\n",
        "\t\t\tcount += 1\n",
        "\t\t\tif count == lastnum:\n",
        "\t\t\t\tprint(num - lastnum +1)\n",
        "\t\t\t\tcount -= 1\n",
        "\t\telse:\n",
        "\t\t\tcount = 0\n",
        "\t\t\tif f[num] == 0:\n",
        "        f[num::num] = [x+1 for x in f[num :: num]]\n",
        "    return \n",
        "print(prime_factors(30000,4,4))"
      ],
      "execution_count": 0,
      "outputs": []
    },
    {
      "cell_type": "code",
      "metadata": {
        "id": "Buqc6ufCng62",
        "colab_type": "code",
        "colab": {}
      },
      "source": [
        "def is_prime(n:int) -> bool:\n",
        "  if n in [2,3,5,7]:\n",
        "    return True\n",
        "  if n % 2 == 0:\n",
        "    return False\n",
        "  factor = 3\n",
        "  while factor * factor <= n:\n",
        "    if n % factor == 0:\n",
        "      return False\n",
        "    factor += 2\n",
        "  return True\n",
        "    "
      ],
      "execution_count": 0,
      "outputs": []
    },
    {
      "cell_type": "code",
      "metadata": {
        "id": "8oY0SxXloKYz",
        "colab_type": "code",
        "colab": {}
      },
      "source": [
        "def factorize(n:int) -> [int]:\n",
        "  factors = []\n",
        "  while n > 1 and n%2 == 0:\n",
        "    factors.append(2)\n",
        "    n //=2\n",
        "  factor = 3\n",
        "  while n > 1:\n",
        "    while  n % factor == 0:\n",
        "      factors.append(factor)\n",
        "      n //= factor\n",
        "    factor += 2\n",
        "  return factors"
      ],
      "execution_count": 0,
      "outputs": []
    },
    {
      "cell_type": "code",
      "metadata": {
        "id": "lYtPzDONpPbw",
        "colab_type": "code",
        "outputId": "44b903d4-f89b-4b18-ad81-70d966c183de",
        "colab": {
          "base_uri": "https://localhost:8080/",
          "height": 34
        }
      },
      "source": [
        "factorize(23571417)"
      ],
      "execution_count": 0,
      "outputs": [
        {
          "output_type": "execute_result",
          "data": {
            "text/plain": [
              "[3, 1433, 5483]"
            ]
          },
          "metadata": {
            "tags": []
          },
          "execution_count": 37
        }
      ]
    },
    {
      "cell_type": "code",
      "metadata": {
        "id": "atfO_jyNpWWe",
        "colab_type": "code",
        "colab": {}
      },
      "source": [
        "for n in range(16,100000):\n",
        "  if len(set(factorize(n))) == 4:\n",
        "    if len(set(factorize(n+1))) == 4:\n",
        "      if len(set(factorize(n+2))) == 4:\n",
        "        if len(set(factorize(n+3))) == 4:\n",
        "          print(n,n+1,n+2,n+3)"
      ],
      "execution_count": 0,
      "outputs": []
    },
    {
      "cell_type": "code",
      "metadata": {
        "id": "tdRDfiRruIcL",
        "colab_type": "code",
        "colab": {}
      },
      "source": [
        "def match_sum(n,s):\n",
        "  if len(s) < 6:\n",
        "    s += [1,2,3,4,3,2]\n",
        "  stop = 1\n",
        "  while sum(s[:stop]) != n:\n",
        "    if s[stop] == 0:\n",
        "      s += [1,2,3,4,3,2,0]\n",
        "    stop += 1\n",
        "  return s[stop:]"
      ],
      "execution_count": 0,
      "outputs": []
    },
    {
      "cell_type": "code",
      "metadata": {
        "id": "Bj_YiwODujof",
        "colab_type": "code",
        "outputId": "7c0f5422-7d2e-4f7f-da1e-7d57ad2b4a7d",
        "colab": {
          "base_uri": "https://localhost:8080/",
          "height": 34
        }
      },
      "source": [
        "match_sum(4,match_sum(3,match_sum(2,match_sum(1,[1,2,3,4,5]))))"
      ],
      "execution_count": 0,
      "outputs": [
        {
          "output_type": "execute_result",
          "data": {
            "text/plain": [
              "[5, 1, 2, 3, 4, 3, 2]"
            ]
          },
          "metadata": {
            "tags": []
          },
          "execution_count": 166
        }
      ]
    },
    {
      "cell_type": "code",
      "metadata": {
        "id": "M5ucvqilvreQ",
        "colab_type": "code",
        "outputId": "cfd816e7-9c61-407a-cc18-fc108f162264",
        "colab": {
          "base_uri": "https://localhost:8080/",
          "height": 34
        }
      },
      "source": [
        "match_sum(8,[5, 1, 2, 3, 4, 3, 2])"
      ],
      "execution_count": 0,
      "outputs": [
        {
          "output_type": "execute_result",
          "data": {
            "text/plain": [
              "[3, 4, 3, 2]"
            ]
          },
          "metadata": {
            "tags": []
          },
          "execution_count": 168
        }
      ]
    },
    {
      "cell_type": "code",
      "metadata": {
        "id": "9p28_521ycUw",
        "colab_type": "code",
        "colab": {}
      },
      "source": [
        "import sympy #it is a package to write isprime function"
      ],
      "execution_count": 0,
      "outputs": []
    },
    {
      "cell_type": "code",
      "metadata": {
        "id": "B79cmFsIV3VX",
        "colab_type": "code",
        "outputId": "0fbf76c7-fab3-4d54-991d-adeb63ad9236",
        "colab": {
          "base_uri": "https://localhost:8080/",
          "height": 34
        }
      },
      "source": [
        "#project euler - 56\n",
        "def sum_of_digits(num):\n",
        "    \"\"\"sum of digits of given number\"\"\"\n",
        "    sum = 0\n",
        "    while num != 0:\n",
        "        sum += num % 10\n",
        "        num //= 10\n",
        "    return sum\n",
        "\n",
        "largest = 0\n",
        "\n",
        "for a in range(100):\n",
        "    for b in range(100):\n",
        "        sum = sum_of_digits(a**b)\n",
        "        if sum > largest:\n",
        "            largest = sum\n",
        "            \n",
        "print(largest)"
      ],
      "execution_count": 0,
      "outputs": [
        {
          "output_type": "stream",
          "text": [
            "972\n"
          ],
          "name": "stdout"
        }
      ]
    },
    {
      "cell_type": "code",
      "metadata": {
        "id": "nHWjht1ZjPdY",
        "colab_type": "code",
        "colab": {}
      },
      "source": [
        "#project euler - 49\n",
        "import sympy\n",
        "import itertools"
      ],
      "execution_count": 0,
      "outputs": []
    },
    {
      "cell_type": "code",
      "metadata": {
        "id": "Ff-y9Bu3jFWT",
        "colab_type": "code",
        "colab": {}
      },
      "source": [
        "def prime_permutation(num: int) -> bool:\n",
        "    x = itertools.permutations(str(num),4);\n",
        "    sequence = [];\n",
        "    for number in x:\n",
        "        a = ''.join(number);\n",
        "        sequence.append(int(a));\n",
        "    i = 1;\n",
        "    numbers = [];\n",
        "    while i < 3:\n",
        "        numbers.append(num + 3330 * i);\n",
        "        i += 1;\n",
        "    for k in numbers:\n",
        "        if sympy.isprime(k) == True and k in sequence:\n",
        "            continue\n",
        "        else:\n",
        "            return False\n",
        "            break\n",
        "    return True\n",
        "primes = [];\n",
        "for i in range(1000, 10000):\n",
        "    if sympy.isprime(i) == True:\n",
        "        primes.append(i);\n",
        "\n",
        "unique_primes = [];\n",
        "for i in primes:\n",
        "    if prime_permutation(i) == True:\n",
        "        unique_primes.append(i);"
      ],
      "execution_count": 0,
      "outputs": []
    },
    {
      "cell_type": "code",
      "metadata": {
        "id": "X2uIWOTMjb4f",
        "colab_type": "code",
        "outputId": "af50cdec-4eb2-4020-cee8-9f2c4d72c07a",
        "colab": {
          "base_uri": "https://localhost:8080/",
          "height": 34
        }
      },
      "source": [
        "print(str(unique_primes[1]) + str(unique_primes[1] + 3330) + str(unique_primes[1] + 6660))"
      ],
      "execution_count": 0,
      "outputs": [
        {
          "output_type": "stream",
          "text": [
            "296962999629\n"
          ],
          "name": "stdout"
        }
      ]
    },
    {
      "cell_type": "markdown",
      "metadata": {
        "id": "NAeTV1IzvPqg",
        "colab_type": "text"
      },
      "source": [
        "The series, 11 + 22 + 33 + ... + 1010 = 10405071317.\n",
        "\n",
        "Find the last ten digits of the series, 11 + 22 + 33 + ... + 10001000."
      ]
    },
    {
      "cell_type": "code",
      "metadata": {
        "id": "s5jjnpyk1aVr",
        "colab_type": "code",
        "colab": {}
      },
      "source": [
        "#project euler 48\n",
        "def self_power(num):\n",
        "    \"\"\"returns sum of self powers up to n.\"\"\"\n",
        "    total = 0\n",
        "    for i in range(1, num + 1):\n",
        "        total += i ** i\n",
        "    return str(total)[-10:]"
      ],
      "execution_count": 0,
      "outputs": []
    },
    {
      "cell_type": "code",
      "metadata": {
        "id": "M_tRXhp21aS1",
        "colab_type": "code",
        "outputId": "ac9f4784-9f5d-446d-c284-590ab1e7763d",
        "colab": {
          "base_uri": "https://localhost:8080/",
          "height": 34
        }
      },
      "source": [
        "print(self_power(1000))"
      ],
      "execution_count": 0,
      "outputs": [
        {
          "output_type": "stream",
          "text": [
            "9110846700\n"
          ],
          "name": "stdout"
        }
      ]
    },
    {
      "cell_type": "markdown",
      "metadata": {
        "id": "Qc39J0Fju95C",
        "colab_type": "text"
      },
      "source": [
        "Have the function QuestionsMarks(str) take the str string parameter, which will contain single digit numbers, letters, and question marks, and check if there are exactly 3 question marks between every pair of two numbers that add up to 10. If so, then your program should return the string true, otherwise it should return the string false. If there aren't any two numbers that add up to 10 in the string, then your program should return false as well.\n",
        "\n",
        "For example: if str is \"arrb6???4xxbl5???eee5\" then your program should return true because there are exactly 3 question marks between 6 and 4, and 3 question marks between 5 and 5 at the end of the string."
      ]
    },
    {
      "cell_type": "code",
      "metadata": {
        "id": "ZERkO43P1vwK",
        "colab_type": "code",
        "outputId": "6e2d5692-e88e-4166-c6fa-093dbcbecab9",
        "colab": {
          "base_uri": "https://localhost:8080/",
          "height": 34
        }
      },
      "source": [
        "def QuestionsMarks(str):\n",
        "  last_number = None\n",
        "  num_of_questions = 0\n",
        "  \n",
        "  for i in str:\n",
        "    \n",
        "    if i.isdigit():\n",
        "      if last_number is not None and (last_number + int(i)) == 10 and num_of_questions == 3:\n",
        "        return True\n",
        "      else:\n",
        "        last_number = int(i)\n",
        "    \n",
        "    if i == '?':\n",
        "      num_of_questions += 1\n",
        "        \n",
        "  return False\n",
        "    \n",
        "print(QuestionsMarks(\"aa7???3nf4mdk??6?\"))"
      ],
      "execution_count": 0,
      "outputs": [
        {
          "output_type": "stream",
          "text": [
            "True\n"
          ],
          "name": "stdout"
        }
      ]
    },
    {
      "cell_type": "markdown",
      "metadata": {
        "id": "aWOyzULZg2wD",
        "colab_type": "text"
      },
      "source": [
        "Have the function PentagonalNumber(num) read num which will be a positive integer and determine how many dots exist in a pentagonal shape around a center dot on the Nth iteration. For example, in the image below you can see that on the first iteration there is only a single dot, on the second iteration there are 6 dots, on the third there are 16 dots, and on the fourth there are 31dots.\n",
        "Your program should return the number of dots that exist in the whole pentagon on the Nth iteration.\n",
        "\n",
        "  \n",
        "\n"
      ]
    },
    {
      "cell_type": "code",
      "metadata": {
        "id": "K6Gj_fXCgRi9",
        "colab_type": "code",
        "outputId": "bb23c026-7e51-40b9-d88e-02e4eb79bcfd",
        "colab": {
          "base_uri": "https://localhost:8080/",
          "height": 34
        }
      },
      "source": [
        "\n",
        "def PentagonalNumber(num):\n",
        "    currentouter = 0\n",
        "    currentsize = 1\n",
        "    for i in range(0, num):\n",
        "       \n",
        "        currentsize += currentouter\n",
        "        currentouter += 5\n",
        "    return currentsize\n",
        "PentagonalNumber(5)"
      ],
      "execution_count": 0,
      "outputs": [
        {
          "output_type": "execute_result",
          "data": {
            "text/plain": [
              "1"
            ]
          },
          "metadata": {
            "tags": []
          },
          "execution_count": 3
        }
      ]
    },
    {
      "cell_type": "code",
      "metadata": {
        "id": "2UKBvJ82F5dr",
        "colab_type": "code",
        "colab": {}
      },
      "source": [
        "samples = [\"aa6?9\",\"aaxc7??kdwj3//?\"]"
      ],
      "execution_count": 0,
      "outputs": []
    },
    {
      "cell_type": "code",
      "metadata": {
        "id": "tE8zJPnyGFz0",
        "colab_type": "code",
        "colab": {}
      },
      "source": [
        "sdq = \"\".join([ch for ch in samples[1]])"
      ],
      "execution_count": 0,
      "outputs": []
    },
    {
      "cell_type": "code",
      "metadata": {
        "id": "lOtN86FBGME-",
        "colab_type": "code",
        "colab": {}
      },
      "source": [
        "def coderbyte(s):\n",
        "  import re\n",
        "  remove  = re.complier(\"[^0-9?]\")\n",
        "  tomatch = re.complier(\"\\d\\?\\?\\?\\d\")\n",
        "  s = remove.sub('', s)\n",
        "  for match in tomatch.findall(s):\n",
        "    if int[match[0]] +int[match[-1]] == 10:\n",
        "      return True,match\n",
        "  return False, s"
      ],
      "execution_count": 0,
      "outputs": []
    },
    {
      "cell_type": "code",
      "metadata": {
        "id": "JscCZtAbHFk8",
        "colab_type": "code",
        "colab": {}
      },
      "source": [
        "coderbyte(\"acc?7??sss?3rr1??????5\")"
      ],
      "execution_count": 0,
      "outputs": []
    },
    {
      "cell_type": "code",
      "metadata": {
        "id": "ryZG1vvodjUu",
        "colab_type": "code",
        "colab": {}
      },
      "source": [
        "def beautiful(str):\n",
        "  count = 0\n",
        "  for i in range(len(str)):\n",
        "    for j in range(1,len(str)):\n",
        "      if str == next_str:\n",
        "        count += 1\n",
        "  if count == 2:\n",
        "    return \"beautiful\"\n",
        "  return \"not beautiful\""
      ],
      "execution_count": 0,
      "outputs": []
    },
    {
      "cell_type": "code",
      "metadata": {
        "id": "C3iRn6m5dsav",
        "colab_type": "code",
        "colab": {}
      },
      "source": [
        "print(beautiful(\"rroossee\"))"
      ],
      "execution_count": 0,
      "outputs": []
    },
    {
      "cell_type": "code",
      "metadata": {
        "id": "HLP71jhLik2R",
        "colab_type": "code",
        "colab": {}
      },
      "source": [
        "#method - 1\n",
        "def is_even(number):\n",
        "  return number % 2 == 0"
      ],
      "execution_count": 0,
      "outputs": []
    },
    {
      "cell_type": "code",
      "metadata": {
        "id": "KDkDZKCalnVM",
        "colab_type": "code",
        "colab": {}
      },
      "source": [
        "def is_beautiful(word):\n",
        "  unique_words = set(word)\n",
        "  return [1 for w in unique_words if is_even((word.count(w)) == len(unique_word))]"
      ],
      "execution_count": 0,
      "outputs": []
    },
    {
      "cell_type": "code",
      "metadata": {
        "id": "uWdqBr8rmRlB",
        "colab_type": "code",
        "colab": {}
      },
      "source": [
        "is_beautiful(\"aabbcc\")"
      ],
      "execution_count": 0,
      "outputs": []
    },
    {
      "cell_type": "code",
      "metadata": {
        "id": "ElKJIUh7tc4u",
        "colab_type": "code",
        "colab": {}
      },
      "source": [
        "#method 2\n",
        "def is_beautiful(s):\n",
        "  unique_chars = set(s)\n",
        "  return all([s.count(ch) % 2 == 0 for ch in unique_chars])"
      ],
      "execution_count": 0,
      "outputs": []
    },
    {
      "cell_type": "code",
      "metadata": {
        "id": "oNwEloDh19yc",
        "colab_type": "code",
        "colab": {}
      },
      "source": [
        "#reverse of the linked list\n",
        "def reverse_upto(element, l):\n",
        "  upto_position = l.index(element)\n",
        "  return l[upto_position::-1] + l[upto_position+1:]"
      ],
      "execution_count": 0,
      "outputs": []
    },
    {
      "cell_type": "code",
      "metadata": {
        "id": "IPu4pyy92UT0",
        "colab_type": "code",
        "outputId": "051b1760-ee66-4a40-9399-2c979a803b39",
        "colab": {
          "base_uri": "https://localhost:8080/",
          "height": 34
        }
      },
      "source": [
        "reverse_upto(3,[1,2,3,4,5])"
      ],
      "execution_count": 0,
      "outputs": [
        {
          "output_type": "execute_result",
          "data": {
            "text/plain": [
              "[3, 2, 1, 4, 5]"
            ]
          },
          "metadata": {
            "tags": []
          },
          "execution_count": 46
        }
      ]
    },
    {
      "cell_type": "code",
      "metadata": {
        "id": "EzEm35cc4LJg",
        "colab_type": "code",
        "colab": {}
      },
      "source": [
        "def zero_count(n):\n",
        "  zero_count = 0\n",
        "  for i in range(5,n + 1,5):\n",
        "    while i % 5 == 0:\n",
        "      zero_count += 1\n",
        "      i //= 5\n",
        "  return zero_count"
      ],
      "execution_count": 0,
      "outputs": []
    },
    {
      "cell_type": "code",
      "metadata": {
        "id": "lz7YihE355ei",
        "colab_type": "code",
        "outputId": "2d922e95-a509-41a2-e38c-79d4369d86a3",
        "colab": {
          "base_uri": "https://localhost:8080/",
          "height": 34
        }
      },
      "source": [
        "print(zero_count(20))"
      ],
      "execution_count": 0,
      "outputs": [
        {
          "output_type": "stream",
          "text": [
            "4\n"
          ],
          "name": "stdout"
        }
      ]
    },
    {
      "cell_type": "code",
      "metadata": {
        "id": "8BxUjhpg8ucg",
        "colab_type": "code",
        "colab": {}
      },
      "source": [
        "def is_triangular(n:int) -> bool:\n",
        "  r = 1\n",
        "  while r * (r + 1) < 2 * n:\n",
        "    r += 2\n",
        "  return r * (r + 1) == 2 * n"
      ],
      "execution_count": 0,
      "outputs": []
    },
    {
      "cell_type": "code",
      "metadata": {
        "id": "jSrwh1Ga9NKD",
        "colab_type": "code",
        "colab": {}
      },
      "source": [
        "def is_triangular_word(s: str) -> bool:\n",
        "  return int(is_triangular(word_value(S)))"
      ],
      "execution_count": 0,
      "outputs": []
    },
    {
      "cell_type": "code",
      "metadata": {
        "id": "GTUC61YfhzXf",
        "colab_type": "code",
        "outputId": "a83175f0-5dc1-4abf-e618-13af4304d0c5",
        "colab": {
          "base_uri": "https://localhost:8080/",
          "height": 34
        }
      },
      "source": [
        "#project euler-41\n",
        "from itertools import permutations\n",
        "\n",
        "def is_prime(n):\n",
        "    \"\"\"Function to check if\n",
        "    the given number is prime\"\"\"\n",
        "    for i in range(2, int(n**0.5)+1):\n",
        "        if n % i == 0:\n",
        "            return False\n",
        "    return True\n",
        "\n",
        "# permutations of numbers from 1-7\n",
        "p = permutations('1234567')\n",
        "\n",
        "# for loop to loop from reverse order\n",
        "# from higher to lower\n",
        "for i in list(p)[::-1]:\n",
        "    if int(i[6]) % 2 != 0:\n",
        "        number = int(''.join(i))\n",
        "        if (number+1) % 6 == 0 or (number-1) % 6 == 0:\n",
        "            if is_prime(number):\n",
        "                print(number)\n",
        "                break"
      ],
      "execution_count": 0,
      "outputs": [
        {
          "output_type": "stream",
          "text": [
            "7652413\n"
          ],
          "name": "stdout"
        }
      ]
    },
    {
      "cell_type": "code",
      "metadata": {
        "id": "ciKfHS3fhz3_",
        "colab_type": "code",
        "colab": {}
      },
      "source": [
        "def reverseVowels(str : str) -> str:        \n",
        "\t\tvowels = []\n",
        "\t\treverse = \"\"\n",
        "\t\tfor i in str:\n",
        "\t\t\tif i in \"aeiouAEIOU\":                \n",
        "\t\t\t\tvowels.append(i)\n",
        "\t\tfor i in str:\n",
        "\t\t\tif i in \"aeiouAEIOU\":\n",
        "\t\t\t\treverse += vowels.pop()\n",
        "\t\t\telse:\n",
        "\t\t\t\treverse += i\n",
        "\t\treturn reverse"
      ],
      "execution_count": 0,
      "outputs": []
    },
    {
      "cell_type": "code",
      "metadata": {
        "id": "c3nXRQAD0l7u",
        "colab_type": "code",
        "outputId": "8b954c7d-c7bd-4213-97e0-b2df41f2eb9d",
        "colab": {
          "base_uri": "https://localhost:8080/",
          "height": 34
        }
      },
      "source": [
        "print(reverseVowels(\"sarvani\"))"
      ],
      "execution_count": 0,
      "outputs": [
        {
          "output_type": "stream",
          "text": [
            "sirvana\n"
          ],
          "name": "stdout"
        }
      ]
    },
    {
      "cell_type": "code",
      "metadata": {
        "id": "7pBQ1M_UtrY2",
        "colab_type": "code",
        "colab": {}
      },
      "source": [
        ""
      ],
      "execution_count": 0,
      "outputs": []
    }
  ]
}